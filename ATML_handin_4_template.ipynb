{
  "nbformat": 4,
  "nbformat_minor": 0,
  "metadata": {
    "colab": {
      "provenance": []
    },
    "kernelspec": {
      "name": "python3",
      "display_name": "Python 3"
    },
    "language_info": {
      "name": "python"
    }
  },
  "cells": [
    {
      "cell_type": "markdown",
      "source": [
        "# Code template for hand-in on reconstruction attacks.\n",
        "\n",
        "Advanced Topics in Machine Learning, U. Copenhagen, fall 2023\n",
        "\n",
        "Created by Rasmus Pagh\n",
        "\n",
        "Queries on a hidden dataset x from {-1,+1}^100 can be made via the query method below\n",
        "which calls a web API that allows dot product queries with vectors in {-1,+1}^100.\n",
        "To protect data, Laplace noise is added to responses. Using the techniques you have\n",
        "seen in the lecture it is possible to partially reconstruct the dataset using 200 queries.\n",
        "To make sure that you get a unique challenge, choose any unique string as your challenge\n",
        "identifier. The web API will keep track of the number of queries made for each identifier."
      ],
      "metadata": {
        "id": "0gptEv_UkLPf"
      }
    },
    {
      "cell_type": "markdown",
      "source": [
        "# Support function for querying the web API"
      ],
      "metadata": {
        "id": "dyLpL0gdnquz"
      }
    },
    {
      "cell_type": "code",
      "source": [
        "import numpy as np\n",
        "import requests as rq\n",
        "\n",
        "# Retrieve answer to challenge for a given query\n",
        "def query(challenge_id, query_vector, submit=False):\n",
        "    # Only alphanumeric challenge_id and vextor entries in {-1,+1} are allowed:\n",
        "    assert(challenge_id.isalnum())\n",
        "    assert(np.max(np.minimum(np.abs(query_vector-1),np.abs(query_vector+1)))==0)\n",
        "    payload = { 'challengeid': challenge_id, 'submit': submit,\n",
        "                'query': \" \".join([str(int(v)) for v in query_vector]) }\n",
        "    response = rq.get(\"https://rasmuspagh.pythonanywhere.com/query\", params = payload).json()\n",
        "    return float(response['result'])"
      ],
      "metadata": {
        "id": "L1Mb8xGZkTPO"
      },
      "execution_count": 1,
      "outputs": []
    },
    {
      "cell_type": "markdown",
      "source": [
        "# Making random queries to the API"
      ],
      "metadata": {
        "id": "mgh9MtPmnyEl"
      }
    },
    {
      "cell_type": "code",
      "execution_count": 2,
      "metadata": {
        "id": "rACAhWmE9zkq",
        "colab": {
          "base_uri": "https://localhost:8080/"
        },
        "outputId": "ea6d3075-03f2-4a18-ae6d-049e6ff7832b"
      },
      "outputs": [
        {
          "output_type": "stream",
          "name": "stdout",
          "text": [
            "********************************************************************************************************************************************************************************************************"
          ]
        }
      ],
      "source": [
        "challenge_id = 'myUniqueIdentifier49832' # identifier for hidden dataset\n",
        "n = 100 # number of entries in hidden dataset\n",
        "num_queries = 2*n # number of queries to be asked\n",
        "\n",
        "queries = np.random.choice([-1,+1], size=(num_queries,n)) # Set of random queries\n",
        "query_results = []\n",
        "for i in range(num_queries): # Answer all queries using web API\n",
        "    print('*', end='', flush=True)\n",
        "    query_results.append(query(challenge_id, queries[i]))\n",
        "\n",
        "query_results = np.array(query_results)\n"
      ]
    },
    {
      "cell_type": "markdown",
      "source": [
        "# Baseline reconstruction attack: Guess equals the best query\n",
        "\n",
        "Copy the notebook and replace with your attack. The first submission for a given challenge_id is stored on the server and on the leaderboard: https://rasmuspagh.pythonanywhere.com/leaderboard/?n=100"
      ],
      "metadata": {
        "id": "uiUoCqxtknZj"
      }
    },
    {
      "cell_type": "markdown",
      "source": [
        "**Tip**: to solve a linear program you can use the following import:\n",
        "\n",
        "```\n",
        "from scipy.optimize import linprog\n",
        "```\n",
        "\n"
      ],
      "metadata": {
        "id": "wBzhULS8lfJf"
      }
    },
    {
      "cell_type": "code",
      "source": [
        "best_query_number = np.argmax(query_results)\n",
        "best_query = queries[best_query_number]\n",
        "best_query_result = query(challenge_id, best_query, submit=True)\n",
        "print(f\"\\nReconstruction attack achieves fraction {(1 + best_query_result / n) / 2} correct values\")"
      ],
      "metadata": {
        "colab": {
          "base_uri": "https://localhost:8080/"
        },
        "id": "KNEVYeK5klgu",
        "outputId": "8b722f8c-2909-438c-a786-86a1136ce7b6"
      },
      "execution_count": 3,
      "outputs": [
        {
          "output_type": "stream",
          "name": "stdout",
          "text": [
            "\n",
            "Reconstruction attack achieves fraction 0.54 correct values\n"
          ]
        }
      ]
    }
  ]
}